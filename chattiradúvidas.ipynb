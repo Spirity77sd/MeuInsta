{
  "cells": [
    {
      "cell_type": "markdown",
      "metadata": {
        "id": "view-in-github",
        "colab_type": "text"
      },
      "source": [
        "<a href=\"https://colab.research.google.com/github/Spirity77sd/MeuInsta/blob/main/chattirad%C3%BAvidas.ipynb\" target=\"_parent\"><img src=\"https://colab.research.google.com/assets/colab-badge.svg\" alt=\"Open In Colab\"/></a>"
      ]
    },
    {
      "cell_type": "code",
      "execution_count": null,
      "metadata": {
        "id": "OWwmBKmCejk6"
      },
      "outputs": [],
      "source": [
        "!pip install -q -U google-generativeai"
      ]
    },
    {
      "cell_type": "code",
      "execution_count": null,
      "metadata": {
        "id": "ds0dxCi3fVzw"
      },
      "outputs": [],
      "source": [
        "import os"
      ]
    },
    {
      "cell_type": "code",
      "execution_count": null,
      "metadata": {
        "id": "EyCJlLA4fWwM"
      },
      "outputs": [],
      "source": [
        "import google.generativeai as genai\n",
        "from google.colab import userdata\n",
        "api_key = userdata.get (\"chave\")\n",
        "genai.configure(api_key=api_key)\n"
      ]
    },
    {
      "cell_type": "code",
      "execution_count": null,
      "metadata": {
        "id": "ra8t13-sfkNP"
      },
      "outputs": [],
      "source": [
        "print(\"Modelos disponíveis para geração de conteúdo:\")\n",
        "for m in genai.list_models():\n",
        "   if 'generateContent' in m.supported_generation_methods:\n",
        "    print(m.name)"
      ]
    },
    {
      "cell_type": "code",
      "execution_count": null,
      "metadata": {
        "id": "ltcz7zYkfpPk"
      },
      "outputs": [],
      "source": [
        "model_name = 'gemini-1.5-pro-latest'\n",
        "model = genai.GenerativeModel(model_name)\n",
        "chat = model.start_chat()"
      ]
    },
    {
      "cell_type": "code",
      "execution_count": null,
      "metadata": {
        "id": "_nKntzxxg85i"
      },
      "outputs": [],
      "source": [
        "instruction = \"In this chat, respond as if you were a Brazilian English teacher named Éder, focusing on teaching English grammar and vocabulary clearly and didactically to your students.\"\n",
        "\n"
      ]
    },
    {
      "cell_type": "code",
      "execution_count": null,
      "metadata": {
        "id": "ihQ_V1iKhAnw"
      },
      "outputs": [],
      "source": [
        "generation_config = {\n",
        "    \"candidate_count\": 1,\n",
        "    \"temperature\": 0.5,\n",
        "    \"top_p\": 0.7\n",
        "}"
      ]
    },
    {
      "cell_type": "code",
      "execution_count": null,
      "metadata": {
        "id": "TJO837txiQRg",
        "outputId": "e83582e3-7727-474b-cfb0-e79289d271d2",
        "colab": {
          "base_uri": "https://localhost:8080/"
        }
      },
      "outputs": [
        {
          "metadata": {
            "tags": null
          },
          "name": "stdout",
          "output_type": "stream",
          "text": [
            "Ocorreu um erro: name 'chat' is not defined\n"
          ]
        }
      ],
      "source": [
        "while(True):\n",
        "    question = input(\"You: \")\n",
        "    if question.strip() == '':\n",
        "        break\n",
        "\n",
        "    try:\n",
        "        response = chat.send_message(instruction + question, generation_config=generation_config)\n",
        "        print('\\n')\n",
        "        print(f\"Teacher Éder: {response.text}\")\n",
        "        print('\\n')\n",
        "    except Exception as e:\n",
        "        print(f\"Ocorreu um erro: {e}\")\n",
        "\n",
        "        instruction = \"Let's practice your English! Feel free to ask about grammar rules, new words, or anything that's confusing you\""
      ]
    }
  ],
  "metadata": {
    "colab": {
      "provenance": [],
      "include_colab_link": true
    },
    "kernelspec": {
      "display_name": "Python 3",
      "name": "python3"
    },
    "language_info": {
      "name": "python"
    }
  },
  "nbformat": 4,
  "nbformat_minor": 0
}